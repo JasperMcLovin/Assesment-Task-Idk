{
 "cells": [
  {
   "attachments": {},
   "cell_type": "markdown",
   "metadata": {},
   "source": [
    "# Identifying And Defining\n",
    "***"
   ]
  },
  {
   "attachments": {},
   "cell_type": "markdown",
   "metadata": {},
   "source": [
    "***\n",
    "## Defining\n",
    "***\n",
    "### Data\n",
    "- The data I am analysing is the orbital data of man-made satellites around the earth. The data can display the location, speed, height, and much more about a given satellite. (https://celestrak.org/NORAD/elements/)\n",
    "***\n",
    "### Goal\n",
    "- With my data, I want to be able to find specific information about a satellite of my choice, for example: I can quickly and easily find the orbital data of the ISS\n",
    "***\n",
    "### Access \n",
    "- The data I use is publically avalible using CelesTrak, meaning I can easily access the data I need without any road blocks\n",
    "***\n",
    "### Access Method\n",
    "- working on it :3 (most likley API)\n",
    "***"
   ]
  },
  {
   "attachments": {},
   "cell_type": "markdown",
   "metadata": {},
   "source": [
    "***\n",
    "## Functional Requirements\n",
    "***\n",
    "### Data Loading\n",
    "- Description: The program will use an API to request specific data from CelesTrak, meaning the data will be in the correct format based off request, and can be quickly gathered\n",
    "- Input: The user will request data for a specific satellite(s) (e.g. the ISS) in the program, which will make a request for that satellites data in CelesTrak.\n",
    "- Output: The program will output the data for only the satellite(s) specified\n",
    "***\n",
    "### Data Cleaning\n",
    "- Description: The data will be taken directly from CelesTrak using an API, meaning that the format will be correct, and all data needed will be provided.\n",
    "- Input: It is the next step after Data Loading, meaning the inputs are the same\n",
    "- Output: It is the next step after Data Loading, meaning the Outputs are the same\n",
    "***\n",
    "### Data Analysis\n",
    "- Description: The data will need to be analysed for its speficic orbit data, and potentially compared against other satellites, so much statistical analysis is needed\n",
    "- Input: The user will request to see specific parts of data, or compare data of one satellite to another\n",
    "- Output: The program will output the information requested, such as position, speed, or comparison to other satellites\n",
    "***\n",
    "### Data Visualisation\n",
    "- Description: The data will be visualised either using text (for outputs such as speed or current location), or using graphs (for outputs such as comparisions or location over time)\n",
    "- Input: The user will request to see specific parts of data, or compare data of one satellite to another\n",
    "- Output: The program will output text or a graph based on what data the user requested to see\n",
    "***\n",
    "### Data Reporting\n",
    "- Description: The system will use 2 CSV files to store data, both gaining data from an API. The first will store all the names and ID's of the satellites, and will be constantly updated by the API. The second will be for storing requested data, and will be updated with the API, and constantly reset when the user no longer needs data from a previous satellite.\n",
    "- Input: Literally anything\n",
    "- Output: Putting data in the files\n",
    "***"
   ]
  },
  {
   "attachments": {},
   "cell_type": "markdown",
   "metadata": {},
   "source": [
    "***\n",
    "## Use Cases\n",
    "***"
   ]
  },
  {
   "attachments": {},
   "cell_type": "markdown",
   "metadata": {},
   "source": [
    "***\n",
    "## Non-Functional Requirments\n",
    "***"
   ]
  },
  {
   "attachments": {},
   "cell_type": "markdown",
   "metadata": {},
   "source": [
    "***\n",
    "# Researching And Planning\n",
    "***"
   ]
  },
  {
   "attachments": {},
   "cell_type": "markdown",
   "metadata": {},
   "source": [
    "***\n",
    "## Research\n",
    "***\n",
    "### Purpose\n",
    "- I am trying to find the locations of satellites in orbit around Earth, among other data that can be obtained from said satellites.\n",
    "- It is important to research as it provides valuable insights into what is going on outside of our atmosphere, and can be used to gain a deeper understanding of how things we use daily work (such as GPS)\n",
    "***\n",
    "### Missing Data\n",
    "- There is no data that is missing, and the data used will always be as up to date as possible, since I will be using an API\n",
    "***\n",
    "### Stakeholders\n",
    "- Everybody can benifit from the information I create. From average people to scientists, everyone will be able to quickly learn about any satellite\n",
    "***\n",
    "### Use\n",
    "- The information can be used to locate, track, and predict movement of satellites, helping people easily gain insight on satellites\n",
    "***"
   ]
  },
  {
   "attachments": {},
   "cell_type": "markdown",
   "metadata": {},
   "source": [
    "***\n",
    "## Privacy And Security\n",
    "***"
   ]
  }
 ],
 "metadata": {
  "language_info": {
   "name": "python"
  },
  "orig_nbformat": 4
 },
 "nbformat": 4,
 "nbformat_minor": 2
}
