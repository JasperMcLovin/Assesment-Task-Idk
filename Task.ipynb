{
 "cells": [
  {
   "attachments": {},
   "cell_type": "markdown",
   "metadata": {},
   "source": [
    "# Data\n",
    "The data I am analysing is the orbital data of man-made satellites around the earth. The data can display the location, speed, height, and much more about a given satellite. (https://celestrak.org/NORAD/elements/)\n",
    "***\n",
    "# Goal\n",
    "With my data, I want to be able to find specific information about a satellite of my choice, for example: I can quickly and easily find the orbital data of the ISS\n",
    "***\n",
    "# Access \n",
    "The data I use is publically avalible using CelesTrak, meaning I can easily access the data I need without any road blocks.\n",
    "***\n",
    "# Access Method\n",
    "working on it :3 (most likley API)"
   ]
  },
  {
   "attachments": {},
   "cell_type": "markdown",
   "metadata": {},
   "source": [
    "# Functional Requirements\n",
    "***\n",
    "## Data Loading\n",
    "- Description: The program will use an API to request specific data from CelesTrak, meaning the data will be in the correct format based off request, and can be quickly gathered\n",
    "- Input: The user will request data for a specific satellite (e.g. the ISS) in the program, which will make a request for that satellites data in CelesTrak.\n",
    "- Output: The program will output the data for only the satellite specified\n",
    "***\n",
    "## Data Cleaning\n",
    "- Description: WHAT THE GUPTA"
   ]
  }
 ],
 "metadata": {
  "language_info": {
   "name": "python"
  },
  "orig_nbformat": 4
 },
 "nbformat": 4,
 "nbformat_minor": 2
}
